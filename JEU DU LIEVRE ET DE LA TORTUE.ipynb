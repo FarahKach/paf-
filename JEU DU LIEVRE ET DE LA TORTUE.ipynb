{
  "cells": [
    {
      "metadata": {},
      "cell_type": "markdown",
      "source": "<div id=\"titre\">\n<h1 style=\"color:yellow;\n  font-family:times new roman;\n  font-size:3em;\n  background-color:#EC07AD;\n  text-align:center;\n  padding:10px\"> Le jeu du lièvre et de la tortue </h1>\n    \n<div style=\"font-family:times new roman; font-size:2em; padding:5px; background-color:purple;box-shadow: 8px 8px 0px #aaa; text-align:center; width: 100%; color:white;\">TP  - Probabilités - 2nde</div>\n</div>"
    },
    {
      "metadata": {},
      "cell_type": "markdown",
      "source": "<b><u>Règle du jeu :</u></b>\n\n  À chaque tour, on lance un dé. \n\n  Si le 6 sort, alors le lièvre gagne la partie, sinon la tortue avance d’une case. \n\n  La tortue gagne quand elle a avancé 6 fois.\n\n  Le jeu est-il à l’avantage du lièvre ou de la tortue ?\n \n<table style=\"border-width:10px;border-style:solid;border-color:white;border-collapse:collapse;\" width=\"400\">\n   <tr style=\"border:2px solid black;\">\n       <td style=\"border:2px solid black;text-align:center;border-color:#EC07AD\"><img src=20151012152737_tortue2.jpg width='400'></td>\n   </tr>\n</table>"
    },
    {
      "metadata": {},
      "cell_type": "markdown",
      "source": "<b><u>But du TP :</u></b> déterminer qui du lièvre ou de la tortue a le plus de chance de gagner, à moins qu'ils aient autant de chance l'un que l'autre ..."
    },
    {
      "metadata": {},
      "cell_type": "markdown",
      "source": "<h1 style=\"color:yellow;background-color:#EC07AD;text-align:center\"> Partie A : Réflexion en amont </h1>"
    },
    {
      "metadata": {},
      "cell_type": "markdown",
      "source": "Vous répondrez à chacune des questions suivantes sur votre copie, en précisant bien le numéro de la question. \n\n<div style=\"color:red\"><b>1.</b></div>A priori, quelle situation vous semble la plus enviable ? Celle du lièvre, de la tortue ou les deux ont-ils autant de chances de gagner ?"
    },
    {
      "metadata": {},
      "cell_type": "markdown",
      "source": "<div style=\"color:red\"><b>2.</b></div> Combien de fois au plus faut-il lancer le dé avant que l’un des deux joueurs ait gagné ?"
    },
    {
      "metadata": {},
      "cell_type": "markdown",
      "source": "<div style=\"color:red\"><b>3.</b></div> On lance un dé six fois de suite en notant les résultats sans tenir compte du jeu. Dans quel cas le\nlièvre aurait-il gagné ? Dans quel cas la tortue aurait-elle gagné ?"
    },
    {
      "metadata": {},
      "cell_type": "markdown",
      "source": "<h1 style=\"color:yellow;background-color:#EC07AD;text-align:center\"> Partie B : ouverture avec Python </h1>"
    },
    {
      "metadata": {},
      "cell_type": "markdown",
      "source": "Sur Python, pour générer un nombre entier aléatoire compris entre 1 et 6, on utilise  la commande <b>randint(1,6).</b>\n\nPour pouvoir l'utiliser, la commande randint nécessite l'appel d'un module au début du programme. \n\nPour ce faire, il faut taper : <b>from random import*</b>\n\n\nExécuter le programme suivant plusieurs fois:"
    },
    {
      "metadata": {
        "trusted": true
      },
      "cell_type": "code",
      "source": "from random import*\nn=0\ndé=0\nwhile dé<6 and n<6:\n    dé=randint(1,6)\n    n=n+1\n    print(dé)\nif n==6 :\n    print(\"La tortue a gagné !\")\nelse :\n    print(\"Le lièvre a gagné !\")",
      "execution_count": 14,
      "outputs": [
        {
          "output_type": "stream",
          "text": "5\n4\n3\n4\n5\n4\nLa tortue a gagné !\n",
          "name": "stdout"
        }
      ]
    },
    {
      "metadata": {},
      "cell_type": "markdown",
      "source": "<div style=\"color:red\"><b>4.</b></div> Justifier que ce programme ne traduit pas correctement la situation définie par le jeu ?\n\n<div style=\"color:red\"><b>5.</b></div>Corriger ce programme afin qu'il simule le jeu correctement. Recopier ce nouveau programme sur votre copie."
    },
    {
      "metadata": {},
      "cell_type": "markdown",
      "source": "<h1 style=\"color:yellow;background-color:#EC07AD;text-align:center\"> Partie C : Simulations </h1>"
    },
    {
      "metadata": {},
      "cell_type": "markdown",
      "source": "<div style=\"color:red\"><b>6.</b></div> Quelle boucle peut-on ajouter au programme pour obtenir 1000 expériences aléatoires ? \n\nModifiez ce programme de tel sorte qu'il renvoie la fréquence de la victoire du lièvre."
    },
    {
      "metadata": {
        "trusted": true
      },
      "cell_type": "code",
      "source": "from random import*\nC=0\nfor k in range (1000):\n    n=0\n    dé=0\n    while dé!=6 and n<6:\n        dé=randint(1,6)\n        n=n+1\n    if dé==6 :\n        C=C+1\n        \nprint (\"la fréquence de la victoire du lièvre est\",C/1000)",
      "execution_count": 15,
      "outputs": [
        {
          "output_type": "stream",
          "text": "la fréquence de la victoire du lièvre est 0.657\n",
          "name": "stdout"
        }
      ]
    },
    {
      "metadata": {},
      "cell_type": "markdown",
      "source": "<div style=\"color:red\"><b>7.</b></div>Le jeu semble-t-il équitable pour le lièvre et la tortue ? Sinon, qui semble privilégié ? Avec quelle\nproportion de parties gagnées environ ?"
    },
    {
      "metadata": {},
      "cell_type": "markdown",
      "source": "<h1 style=\"color:yellow;background-color:#EC07AD;text-align:center\"> Partie D : avec des probabilités </h1>"
    },
    {
      "metadata": {},
      "cell_type": "markdown",
      "source": "On note T la tortue avance et L le lièvre avance.\n\n<div style=\"color:red\"><b>8.</b></div> Recopier et compléter l'arbre des probabilités ci-dessous en ajoutant les branches nécessaires, et en indiquant les probabilités sur chacune des branches.\n\n<table style=\"border-width:10px;border-style:solid;border-color:white;border-collapse:collapse;\" width=\"300\">\n   <tr style=\"border:2px solid black;\">\n       <td style=\"border:2px solid black;text-align:center;border-color:white\"><img src= probas.jpg.png width='300'></td>\n   </tr>\n</table>"
    },
    {
      "metadata": {},
      "cell_type": "markdown",
      "source": "<div style=\"color:red\"><b>9.</b></div> Déterminer la probabilité avec laquelle la tortue gagne."
    },
    {
      "metadata": {},
      "cell_type": "markdown",
      "source": "<div style=\"color:red\"><b>10.</b></div>En déduire la probabilité avec laquelle le lièvre gagne."
    },
    {
      "metadata": {},
      "cell_type": "markdown",
      "source": "<div style=\"color:red\"><b>11.</b></div>Retrouvez vous la proportion de la partie C ?"
    },
    {
      "metadata": {
        "trusted": true
      },
      "cell_type": "code",
      "source": "",
      "execution_count": null,
      "outputs": []
    }
  ],
  "metadata": {
    "kernelspec": {
      "name": "python36",
      "display_name": "Python 3.6",
      "language": "python"
    },
    "language_info": {
      "mimetype": "text/x-python",
      "nbconvert_exporter": "python",
      "name": "python",
      "pygments_lexer": "ipython3",
      "version": "3.6.6",
      "file_extension": ".py",
      "codemirror_mode": {
        "version": 3,
        "name": "ipython"
      }
    }
  },
  "nbformat": 4,
  "nbformat_minor": 1
}