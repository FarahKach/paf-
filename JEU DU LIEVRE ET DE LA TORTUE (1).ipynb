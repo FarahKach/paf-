{
 "cells": [
  {
   "cell_type": "markdown",
   "metadata": {},
   "source": [
    "<div id=\"titre\">\n",
    "<h1 style=\"color:yellow;\n",
    "  font-family:times new roman;\n",
    "  font-size:3em;\n",
    "  background-color:#EC07AD;\n",
    "  text-align:center;\n",
    "  padding:10px\"> Le jeu du lièvre et de la tortue </h1>\n",
    "    \n",
    "<div style=\"font-family:times new roman; font-size:2em; padding:5px; background-color:purple;box-shadow: 8px 8px 0px #aaa; text-align:center; width: 100%; color:white;\">TP  - Probabilités - 2nde</div>\n",
    "</div>"
   ]
  },
  {
   "cell_type": "markdown",
   "metadata": {},
   "source": [
    "<b><u>Règle du jeu :</u></b>\n",
    "\n",
    "  À chaque tour, on lance un dé. \n",
    "\n",
    "  Si le 6 sort, alors le lièvre gagne la partie, sinon la tortue avance d’une case. \n",
    "\n",
    "  La tortue gagne quand elle a avancé 6 fois.\n",
    "\n",
    "  Le jeu est-il à l’avantage du lièvre ou de la tortue ?\n",
    " \n",
    "<table style=\"border-width:10px;border-style:solid;border-color:white;border-collapse:collapse;\" width=\"400\">\n",
    "   <tr style=\"border:2px solid black;\">\n",
    "       <td style=\"border:2px solid black;text-align:center;border-color:#EC07AD\"><img src=http://mimi40.m.i.pic.centerblog.net/d6tjsn29.gif width='400'></td>\n",
    "   </tr>\n",
    "</table>"
   ]
  },
  {
   "cell_type": "markdown",
   "metadata": {},
   "source": [
    "<b><u>But du TP :</u></b> déterminer qui du lièvre ou de la tortue a le plus de chance de gagner, à moins qu'ils aient autant de chance l'un que l'autre ..."
   ]
  },
  {
   "cell_type": "markdown",
   "metadata": {},
   "source": [
    "<h1 style=\"color:yellow;background-color:#EC07AD;text-align:center\"> Partie A : Réflexion en amont </h1>"
   ]
  },
  {
   "cell_type": "markdown",
   "metadata": {},
   "source": [
    "Vous répondrez à chacune des questions suivantes sur votre copie, en précisant bien le numéro de la question. \n",
    "\n",
    "<div style=\"color:red\"><b>1.</b></div>A priori, quelle situation vous semble la plus enviable ? Celle du lièvre, de la tortue ou les deux ont-ils autant de chances de gagner ?"
   ]
  },
  {
   "cell_type": "markdown",
   "metadata": {},
   "source": [
    "<div style=\"color:red\"><b>2.</b></div> Combien de fois au plus faut-il lancer le dé avant que l’un des deux joueurs ait gagné ?"
   ]
  },
  {
   "cell_type": "markdown",
   "metadata": {},
   "source": [
    "<div style=\"color:red\"><b>3.</b></div> On lance un dé six fois de suite en notant les résultats sans tenir compte du jeu. Dans quel cas le\n",
    "lièvre aurait-il gagné ? Dans quel cas la tortue aurait-elle gagné ?"
   ]
  },
  {
   "cell_type": "markdown",
   "metadata": {},
   "source": [
    "<h1 style=\"color:yellow;background-color:#EC07AD;text-align:center\"> Partie B : ouverture avec Python </h1>"
   ]
  },
  {
   "cell_type": "markdown",
   "metadata": {},
   "source": [
    "Sur Python, pour générer un nombre entier aléatoire compris entre 1 et 6, on utilise  la commande <b>randint(1,6).</b>\n",
    "\n",
    "Pour pouvoir l'utiliser, la commande randint nécessite l'appel d'un module au début du programme. \n",
    "\n",
    "Pour ce faire, il faut taper : <b>from random import*</b>\n",
    "\n",
    "\n",
    "Exécuter le programme suivant plusieurs fois:"
   ]
  },
  {
   "cell_type": "code",
   "execution_count": 14,
   "metadata": {},
   "outputs": [
    {
     "name": "stdout",
     "output_type": "stream",
     "text": [
      "5\n",
      "4\n",
      "3\n",
      "4\n",
      "5\n",
      "4\n",
      "La tortue a gagné !\n"
     ]
    }
   ],
   "source": [
    "from random import*\n",
    "n=0\n",
    "dé=0\n",
    "while dé<6 and n<6:\n",
    "    dé=randint(1,6)\n",
    "    n=n+1\n",
    "    print(dé)\n",
    "if n==6 :\n",
    "    print(\"La tortue a gagné !\")\n",
    "else :\n",
    "    print(\"Le lièvre a gagné !\")"
   ]
  },
  {
   "cell_type": "markdown",
   "metadata": {},
   "source": [
    "<div style=\"color:red\"><b>4.</b></div> Justifier que ce programme ne traduit pas correctement la situation définie par le jeu ?\n",
    "\n",
    "<div style=\"color:red\"><b>5.</b></div>Corriger ce programme afin qu'il simule le jeu correctement. Recopier ce nouveau programme sur votre copie."
   ]
  },
  {
   "cell_type": "markdown",
   "metadata": {},
   "source": [
    "<h1 style=\"color:yellow;background-color:#EC07AD;text-align:center\"> Partie C : Simulations </h1>"
   ]
  },
  {
   "cell_type": "markdown",
   "metadata": {},
   "source": [
    "<div style=\"color:red\"><b>6.</b></div> Quelle boucle peut-on ajouter au programme pour obtenir 1000 expériences aléatoires ? \n",
    "\n",
    "Modifiez ce programme de tel sorte qu'il renvoie la fréquence de la victoire du lièvre."
   ]
  },
  {
   "cell_type": "code",
   "execution_count": 15,
   "metadata": {},
   "outputs": [
    {
     "name": "stdout",
     "output_type": "stream",
     "text": [
      "la fréquence de la victoire du lièvre est 0.657\n"
     ]
    }
   ],
   "source": [
    "from random import*\n",
    "C=0\n",
    "for k in range (1000):\n",
    "    n=0\n",
    "    dé=0\n",
    "    while dé!=6 and n<6:\n",
    "        dé=randint(1,6)\n",
    "        n=n+1\n",
    "    if dé==6 :\n",
    "        C=C+1\n",
    "        \n",
    "print (\"la fréquence de la victoire du lièvre est\",C/1000)"
   ]
  },
  {
   "cell_type": "markdown",
   "metadata": {},
   "source": [
    "<div style=\"color:red\"><b>7.</b></div>Le jeu semble-t-il équitable pour le lièvre et la tortue ? Sinon, qui semble privilégié ? Avec quelle\n",
    "proportion de parties gagnées environ ?"
   ]
  },
  {
   "cell_type": "markdown",
   "metadata": {},
   "source": [
    "<h1 style=\"color:yellow;background-color:#EC07AD;text-align:center\"> Partie D : avec des probabilités </h1>"
   ]
  },
  {
   "cell_type": "markdown",
   "metadata": {},
   "source": [
    "On note T la tortue avance et L le lièvre avance.\n",
    "\n",
    "<div style=\"color:red\"><b>8.</b></div> Recopier et compléter l'arbre des probabilités ci-dessous en ajoutant les branches nécessaires, et en indiquant les probabilités sur chacune des branches.\n",
    "\n",
    "<table style=\"border-width:10px;border-style:solid;border-color:white;border-collapse:collapse;\" width=\"300\">\n",
    "   <tr style=\"border:2px solid black;\">\n",
    "       <td style=\"border:2px solid black;text-align:center;border-color:white\"><img src= probas.jpg.png width='300'></td>\n",
    "   </tr>\n",
    "</table>"
   ]
  },
  {
   "cell_type": "markdown",
   "metadata": {},
   "source": [
    "<div style=\"color:red\"><b>9.</b></div> Déterminer la probabilité avec laquelle la tortue gagne."
   ]
  },
  {
   "cell_type": "markdown",
   "metadata": {},
   "source": [
    "<div style=\"color:red\"><b>10.</b></div>En déduire la probabilité avec laquelle le lièvre gagne."
   ]
  },
  {
   "cell_type": "markdown",
   "metadata": {},
   "source": [
    "<div style=\"color:red\"><b>11.</b></div>Retrouvez vous la proportion de la partie C ?"
   ]
  },
  {
   "cell_type": "code",
   "execution_count": null,
   "metadata": {},
   "outputs": [],
   "source": []
  }
 ],
 "metadata": {
  "kernelspec": {
   "display_name": "Python 3",
   "language": "python",
   "name": "python3"
  },
  "language_info": {
   "codemirror_mode": {
    "name": "ipython",
    "version": 3
   },
   "file_extension": ".py",
   "mimetype": "text/x-python",
   "name": "python",
   "nbconvert_exporter": "python",
   "pygments_lexer": "ipython3",
   "version": "3.7.4"
  }
 },
 "nbformat": 4,
 "nbformat_minor": 1
}
